{
 "cells": [
  {
   "cell_type": "markdown",
   "metadata": {},
   "source": [
    "# Problem 1\n",
    "`ogrenciler` adında bir sözlük oluşturunuz. Kullanıcıdan döngü yardımıyla 3 öğrenci için veri girmesini isteyerek öğrencilerin sırasıyla okul numarası, isim, soy isim, telefon numarası ve doğum tarihi bilgilerini alınız. Aldığınız öğrenci bilgilerini yine aynı döngü yardımıyla `ogrenciler` adındaki sözlükte saklayınız. Daha sonra öğrenci bilgilerinin bulunduğu sözlük yapısını ekrana bastırınız.\n",
    "\n"
   ]
  },
  {
   "cell_type": "code",
   "execution_count": 1,
   "metadata": {},
   "outputs": [
    {
     "name": "stdout",
     "output_type": "stream",
     "text": [
      "1 tane öğrenci bilgisi aldınız. \n",
      "2 tane öğrenci bilgisi aldınız. \n",
      "3 tane öğrenci bilgisi aldınız. \n",
      "{3: {'No': '13', 'İsim': 'meral', 'Soyisim': 'ser', 'Telefon': '5322222222', 'DoğumTarihi': '13.03.2000'}}\n"
     ]
    }
   ],
   "source": [
    "ogrenciler = {}\n",
    "for i in range(1,4):\n",
    "\n",
    "    okulNo= input(\"öğr.okul no : \")\n",
    "    isim = input(\"öğr. isim giriniz : \")\n",
    "    soyisim = input(\"öğr. soy isim : \")\n",
    "    telefon = input(\"öğr.telefon no : \")\n",
    "    dogumTarihi = input(\"öğr.doğum tarihi : \")\n",
    "    print(f\"{i} tane öğrenci bilgisi aldınız. \")\n",
    "\n",
    "ogrenciler[i] = {\n",
    "    \"No\" : okulNo,\n",
    "    \"İsim\" : isim,\n",
    "    \"Soyisim\" : soyisim,\n",
    "    \"Telefon\" : telefon,\n",
    "    \"DoğumTarihi\" : dogumTarihi\n",
    "}\n",
    "print(ogrenciler)\n"
   ]
  },
  {
   "cell_type": "markdown",
   "metadata": {},
   "source": [
    "# Problem 2\n",
    "\n",
    "### a - Biraz ısınarak başlayalım!\n",
    "\n",
    "```\n",
    "numbers = [5,10,10,15,15,15,20,20,20,20]\n",
    "```\n",
    "\n",
    "Yukarıda `numbers` adında 10 elemanlı bir liste verilmiştir. Bu listenin her elemanını kontrol eden ve tekrar eden elemanları bir kez olacak şekilde başka bir listeye kopyalayan bir program yazınız. Son olarak oluşturduğunuz listeyi ekrana bastırınız.\n",
    "\n",
    "\n",
    "\n",
    "\n",
    "```\n",
    ">Output\n",
    "[5, 10, 15, 20]\n",
    "```\n"
   ]
  },
  {
   "cell_type": "code",
   "execution_count": 11,
   "metadata": {},
   "outputs": [
    {
     "name": "stdout",
     "output_type": "stream",
     "text": [
      "[10, 20, 5, 15]\n"
     ]
    }
   ],
   "source": [
    "numbers = [5,10,10,15,15,15,20,20,20,20]\n",
    "x = list(set(numbers))\n",
    "print(x)\n",
    "    "
   ]
  },
  {
   "cell_type": "markdown",
   "metadata": {},
   "source": [
    "### 🌶️ b) Hadi işi biraz daha zorlaştıralım! \n",
    "\n",
    "\n",
    "Şimdiyse senden `numbers` isimli listedeki tekrar eden elemanları `repeatNumbers` adındaki listeye; tekrar etmeyen elemanları `uniqueNumbers`adındaki listeye kopyalayan yazmanı ve listeleri ekrana bastırmanı bekliyoruz\n",
    "\n",
    "```\n",
    ">Output\n",
    "Tekrar Eden Elemanlar: [10, 10, 15, 15, 15, 20, 20, 20, 20]\n",
    "Tekrar Etmeyen Elemanlar: [5]\n",
    "```"
   ]
  },
  {
   "cell_type": "code",
   "execution_count": 14,
   "metadata": {},
   "outputs": [
    {
     "name": "stdout",
     "output_type": "stream",
     "text": [
      "[5, 10, 15, 20]\n",
      "[10, 15, 15, 20, 20, 20]\n"
     ]
    }
   ],
   "source": [
    "numbers = [5,10,10,15,15,15,20,20,20,20]\n",
    "repeatNumbers = []\n",
    "uniqueNumbers = []\n",
    "for i in (numbers):\n",
    "    if i not in repeatNumbers :\n",
    "        repeatNumbers.append(i)\n",
    "    else:\n",
    "        uniqueNumbers.append(i)\n",
    "\n",
    "print(repeatNumbers)\n",
    "print(uniqueNumbers)            "
   ]
  },
  {
   "cell_type": "markdown",
   "metadata": {},
   "source": [
    "# Problem 3\n",
    "sn1 = {1,2,3,4,5}\n",
    "\n",
    "sn2 = {4,5,6,7,8}\n",
    "\n",
    " Verilen 2 adet küme için kesişimlerini, farklarını ve birleşimlerini bulunuz. "
   ]
  },
  {
   "cell_type": "code",
   "execution_count": 3,
   "metadata": {},
   "outputs": [
    {
     "name": "stdout",
     "output_type": "stream",
     "text": [
      "{1, 2, 3}\n",
      "{8, 6, 7}\n",
      "{4, 5}\n",
      "{1, 2, 3, 4, 5, 6, 7, 8}\n"
     ]
    }
   ],
   "source": [
    "sn1 = {1,2,3,4,5}\n",
    "sn2 = {4,5,6,7,8}\n",
    "\n",
    "#sn1'in hangi elemanları sn2'den farklıdır.\n",
    "a = sn1.difference(sn2)\n",
    "print(a)\n",
    "#sn2'nin hangi elemanları sn1'den farklıdır.\n",
    "b = sn2.difference(sn1)\n",
    "print(b)\n",
    "# sn1 - sn2 kesişimi\n",
    "c = sn1.intersection(sn2)\n",
    "print(c)\n",
    "# sn1 - sn2 birleşimi\n",
    "d = sn1.union(sn2) \n",
    "print(d)"
   ]
  },
  {
   "cell_type": "markdown",
   "metadata": {},
   "source": [
    "# Problem 4\n",
    "\n",
    "Buradaki işlemlerimizin tamamı stringler içindir. Aşağıda verilecek olan metodlar için kendinizin örnek yaratması gerekmektedir. \n",
    "\n",
    "Örneğin `upper` için `string` değişkeni oluştururken` k = \"BAC\"` şeklinde oluşturmayınız. Bunun yerine k değişkenini `k = \"bac`\" şeklinde oluşturmanız `upper` metodundaki değişimi görebilmeniz için daha iyi olacaktır.\n",
    "\n",
    "Bütün metodlardaki değişimin gözle görülür şekilde değişimi beklenmektedir.\n",
    "\n",
    "\n",
    "1- capitalize(), lower(), upper(), swapcase(), title(), replace()\n",
    "\n",
    "2- endswith(), startswith(), find(), index(), count()\n",
    "\n",
    "3- split(), strip(), join(), islower(), isalpha(), isdigit()\n",
    "\n",
    "\n",
    "Yukarıdaki `string` metodlarındaki değişimleri görebildiğimiz bir program yazınız.\n"
   ]
  },
  {
   "cell_type": "code",
   "execution_count": 2,
   "metadata": {},
   "outputs": [
    {
     "name": "stdout",
     "output_type": "stream",
     "text": [
      "   yetgen core  python dersleri   \n",
      "   yetgen core  python dersleri   \n",
      "   YETGEN CORE  PYTHON DERSLERI   \n",
      "   YETgEN cORE  PYTHON DERSLERI   \n",
      "   Yetgen Core  Python Dersleri   \n",
      "   yptGpn Corp  python dprslpri   \n",
      "False\n",
      "False\n",
      "-1\n",
      "3\n",
      "5\n",
      "['yetGen', 'Core', 'python', 'dersleri']\n",
      " # # #y#e#t#G#e#n# #C#o#r#e# # #p#y#t#h#o#n# #d#e#r#s#l#e#r#i# # # \n",
      "yetGen Core  python dersleri\n",
      "False\n",
      "False\n",
      "False\n"
     ]
    }
   ],
   "source": [
    "x = \"   yetGen Core  python dersleri   \"\n",
    "print(x.capitalize()) # İlk harfi büyük harfe çevirir.\n",
    "print(x.lower()) #Bütün büyük harfleri küçük harfe dönüştürür.\n",
    "print(x.upper()) #Bütün küçük harfleri büyük harfe dönüştürür.\n",
    "print(x.swapcase()) #Harf küçük ise büyük harfe,büyük ise küçük harfe dönüştürürü.\n",
    "print(x.title()) #Karakter dizisi içindeki bütün kelimelerin ilk harfini büyük harfe çevirir.\n",
    "print(x.replace(\"e\",\"p\")) #Bir karakteri başka bir karaktere dönüştürür.\n",
    "print(x.endswith(\"y\")) # İstenilen karakter ile bitip bitmediğini kontrol ediyor.\n",
    "print(x.startswith(\"y\")) #İstenilen karakter ile başlayıp başlanmadığı sorgulanıyor.\n",
    "print(x.find(\"D\")) #karakter dizisi içinde kaçıncı indekste onu buluyor.\n",
    "print(x.index(\"y\")) \n",
    "print(x.count(\"e\"))\n",
    "print(x.split())\n",
    "print(\"#\".join(x))\n",
    "print(x.strip())\n",
    "print(x.islower())\n",
    "print(x.isalpha())\n",
    "print(x.isdigit())"
   ]
  },
  {
   "cell_type": "code",
   "execution_count": null,
   "metadata": {},
   "outputs": [],
   "source": []
  }
 ],
 "metadata": {
  "kernelspec": {
   "display_name": "Python 3.10.5 64-bit",
   "language": "python",
   "name": "python3"
  },
  "language_info": {
   "codemirror_mode": {
    "name": "ipython",
    "version": 3
   },
   "file_extension": ".py",
   "mimetype": "text/x-python",
   "name": "python",
   "nbconvert_exporter": "python",
   "pygments_lexer": "ipython3",
   "version": "3.11.1"
  },
  "orig_nbformat": 4,
  "vscode": {
   "interpreter": {
    "hash": "5026d2d6e7aaaaba093def813beadff083d8733e4a511af01735cbabd156995d"
   }
  }
 },
 "nbformat": 4,
 "nbformat_minor": 2
}
