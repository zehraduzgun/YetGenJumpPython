{
  "cells": [
    {
      "cell_type": "markdown",
      "metadata": {
        "id": "tsD4YVAe_Te2"
      },
      "source": [
        "# Problem 1\n",
        "Bir sayının 7'ye bölünebilir olup olmadığını kontrol etmek \n",
        "için bir program yazın.\n",
        "\n",
        "İpucu: Mod operatörünü (%) kullanabilirsiniz."
      ]
    },
    {
      "cell_type": "code",
      "execution_count": 54,
      "metadata": {
        "id": "NGjvNwKx_Te7"
      },
      "outputs": [
        {
          "name": "stdout",
          "output_type": "stream",
          "text": [
            "Sayınız :  14\n",
            "Sayınız 7'ye tam bölünüyor.\n"
          ]
        }
      ],
      "source": [
        "x = int(input(\"Bir sayı giriniz : \"))\n",
        "print(\"Sayınız : \",x)\n",
        "if x % 7 == 0 :\n",
        "    print(\"Sayınız 7'ye tam bölünüyor.\")\n",
        "else :\n",
        "    print(\"Sayınız 7'ye tam bölünmüyor.\")    "
      ]
    },
    {
      "cell_type": "markdown",
      "metadata": {
        "id": "Kg3qiBAI_Te8"
      },
      "source": [
        "# Problem 2\n",
        "Kullanıcıdan vize ve final notu isteyin. Girilen vize notunun %40’ı ve \n",
        "girilen finalnotunun ise %60’ı alınarak yıl sonu not ortalaması hesaplanacaktır. \n",
        "\n",
        "Bu not ortalaması eğer 85 ve üzeri ise AA, \n",
        "\n",
        "75 ve 85 arasında ise BA, \n",
        "\n",
        "70 ve 75 arasında ise BB, \n",
        "\n",
        "65 ve 70 arasında ise CB,\n",
        "\n",
        "60 ve 65 arasında ise CC,\n",
        "\n",
        "55 ve 60 arasında ise DC,\n",
        "\n",
        "50 ve 55 arasında ise DD olarak hesaplanacaktır. \n",
        "\n",
        "Bu öğrencinin yıl sonu toplam notu 50’nin altında ise FF ile dersten kalacaktır. \n",
        "\n",
        "Ayrıca öğrencinin final notu 50’nin altında ise direkt FF ile kalacaktır."
      ]
    },
    {
      "cell_type": "code",
      "execution_count": 3,
      "metadata": {
        "id": "MXTtCxI1_Te8"
      },
      "outputs": [
        {
          "name": "stdout",
          "output_type": "stream",
          "text": [
            "Vize notunuz :  20\n",
            "Final notunuz :  55\n",
            "Not ortalamanız :  41.0\n",
            "Harf Notunuz : FF\n"
          ]
        }
      ],
      "source": [
        "vize = int(input(\"Vize notu giriniz : \"))\n",
        "final = int(input(\"Final notu giriniz : \"))\n",
        "ortNot = (vize*0.4) + (final*0.6)\n",
        "print(\"Vize notunuz : \",vize)\n",
        "print(\"Final notunuz : \",final)\n",
        "print(\"Not ortalamanız : \",ortNot)\n",
        "if final < 50:\n",
        "    print(\"Harf Notunuz : FF, Final notunuz 50'den düşük olduğu için dersten kaldınız.\")\n",
        "\n",
        "if final >= 50:\n",
        "    if(ortNot >= 85):\n",
        "        print(\"Harf Notunuz : AA\")\n",
        "    elif(ortNot >= 75):\n",
        "        print(\"Harf Notunuz : BA\")\n",
        "    elif(ortNot >= 70):\n",
        "        print(\"Harf Notunuz : BB\")\n",
        "    elif(ortNot >= 65):\n",
        "        print(\"Harf Notunuz : CB\")\n",
        "    elif(ortNot >= 60):\n",
        "        print(\"Harf Notunuz : CC\")\n",
        "    elif(ortNot >= 55):\n",
        "        print(\"Harf Notunuz : DC\")\n",
        "    elif(ortNot >= 50):\n",
        "        print(\"Harf Notunuz : DD\")\n",
        "    else:\n",
        "        print(\"Harf Notunuz : FF\")       \n"
      ]
    },
    {
      "cell_type": "markdown",
      "metadata": {
        "id": "tAoRYCTC_Te8"
      },
      "source": [
        "# Problem 3\n",
        "İki YetGenli Zirve'de karşılaşıyorlar. Birbirlerini tanımak için sorular soruyorlar. Birbirlerine yaşlarını soruyorlar. Akıllarına bir Python programı yazıp, yaşlarını ve isimlerini giriyorlar. Büyük olanın yaşını ekrana yazdıran programı yazıyorlar. Sende bu iki YetGenli'ye destek olmak ister misin?\n",
        "\n",
        "```\n",
        "Birinci YetGenlinin ismi: Ahmet\n",
        "Birinci YetGenlinin yaşı : 20\n",
        "İkinci YetGenlinin ismi: Mehmet\n",
        "İkinci YetGenlinin yaşı : 25\n",
        "Mehmet'in yaşı daha büyük ve yaşı 25'tir.\n",
        "```"
      ]
    },
    {
      "cell_type": "code",
      "execution_count": 38,
      "metadata": {
        "id": "bPjE8W0i_Te8"
      },
      "outputs": [
        {
          "name": "stdout",
          "output_type": "stream",
          "text": [
            "Birinci Yetgenlinin İsmi : Ahmet\n",
            "Birinci Yetgenlinin Yaşı : 20\n",
            "İkinci Yetgenlinin İsmi : Mehmet\n",
            "İkinci Yetgenlinin Yaşı :25\n",
            "Mehmet 'in yaşı daha büyüktür ve yaşı 25'tir.\n"
          ]
        }
      ],
      "source": [
        "x = input(\"Birinci Yetgenlinin İsmi : \")\n",
        "print(f\"Birinci Yetgenlinin İsmi : {x}\")\n",
        "x1 = int(input(\"Birinci Yetgenlinin Yaşı : \"))\n",
        "print(f\"Birinci Yetgenlinin Yaşı : {x1}\")\n",
        "y = input(\"İkinci Yetgenlinin İsmi : \")\n",
        "print(f\"İkinci Yetgenlinin İsmi : {y}\")\n",
        "y1 = int(input(\"İkinci Yetgenlinin Yaşı : \"))\n",
        "print(f\"İkinci Yetgenlinin Yaşı :{y1}\")\n",
        "if x1 > y1:\n",
        "    print(f\"{x} daha büyüktür ve yaşı {x1} 'tir.\")\n",
        "else:\n",
        "    print(f\"{y} 'in yaşı daha büyüktür ve yaşı {y1}'tir.\")    "
      ]
    },
    {
      "cell_type": "markdown",
      "metadata": {
        "id": "zBVv8Tyg_Te9"
      },
      "source": [
        "# Problem 4\n",
        "Pandemi döneminde AVM'lerde ateş ölçümü yapılıyor. AVM'ye giren kişinin ateş ölçümü 37.5 derecenin altında ise girişe izin veriliyor. 37.5 derecenin üstünde ise girişe izin verilmiyor. AVM'ye girişe izin verilip verilmediğini ekrana yazdıran bir program yazın.\n",
        "\n",
        "Program sonunda şöyle bir çıktı elde etmelisiniz:\n",
        "\n",
        "```\n",
        "Ateşiniz 37.5 derece. AVM'ye girebilirsin! Maske takmayı unutma!\n",
        "Ateşiniz 37.6 derece. AVM'ye giremezsin! Hemen evine dön!\n",
        "```"
      ]
    },
    {
      "cell_type": "code",
      "execution_count": 8,
      "metadata": {
        "id": "TSAXs8et_Te9"
      },
      "outputs": [
        {
          "name": "stdout",
          "output_type": "stream",
          "text": [
            "Ateşiniz 37.5 derece. Avm'ye Girebilirsiniz. Maske takmayı unutma!\n"
          ]
        }
      ],
      "source": [
        "x = float(input(\"Sıcaklık Giriniz : \"))\n",
        "if x <= 37.5:\n",
        "    print(f\"Ateşiniz {x} derece. Avm'ye Girebilirsiniz. Maske takmayı unutma!\")\n",
        "else:\n",
        "    print(f\"Ateşiniz {x} derece. Avm'ye Giremezsiniz. Hemen evine dön!\")    "
      ]
    },
    {
      "cell_type": "markdown",
      "metadata": {
        "id": "6AEkZrDt_Te9"
      },
      "source": [
        "# Problem 5\n",
        "YetGen bir spor kulübüyle sponsorluk anlaşması yapıyor. Kulüp, sponsorluk anlaşmasına göre her YetGen liderinin beden kitle indeksini hesaplamak istiyor. Spor kulübü, beden kitle indeksini hesaplamak için YetGen Jump Python liderlerinden Berkcan ve Ahmet'i arıyor. Berkcan ve Ahmet, kulübe yardımcı olmak için bir Python programı yazıyorlar. Sende bu iki YetGen liderine destek olmak ister misin?\n",
        "\n",
        "Kullanıcıdan alınan boy ve kilo değerlerine göre beden kitle indeksini hesaplayın ve şu kurallara göre ekrana şu yazıları yazdırın.\n",
        "\n",
        "\n",
        "Beden Kitle İndeksi, kişinin ağırlığının (kg olarak) boyunun karesine (m olarak) bölünmesiyle hesaplanır.\n",
        "\n",
        "\n",
        "```\n",
        " BKİ 18.5'un altındaysa -------> Zayıf\n",
        "\n",
        " BKİ 18.5 ile 25 arasındaysa ------> Normal\n",
        "\n",
        " BKİ 25 ile 30 arasındaysa --------> Fazla Kilolu\n",
        "\n",
        " BKİ 30'un üstündeyse -------------> Obez\n",
        "```\n",
        "\n"
      ]
    },
    {
      "cell_type": "code",
      "execution_count": 51,
      "metadata": {
        "id": "t-XPI_u0_Te-"
      },
      "outputs": [
        {
          "name": "stdout",
          "output_type": "stream",
          "text": [
            "Beden kitle indeksiniz : 18.426534209261334\n",
            "Zayıf\n"
          ]
        }
      ],
      "source": [
        "boy = float(input(\"Boyunuzu Giriniz (m) : \"))\n",
        "kilo = int(input(\"Kilonuzu Giriniz  (kg) : \"))\n",
        "endeks = kilo / (boy**2)\n",
        "print(f\"Beden kitle indeksiniz : {endeks}\")\n",
        "if endeks <= 18.5:\n",
        "    print(\"Zayıf\")\n",
        "elif endeks <= 25 :\n",
        "    print(\"Normal\")\n",
        "elif endeks <= 30 :\n",
        "    print(\"Fazla Kilo\")\n",
        "else: \n",
        "    print(\"Obez\")\n"
      ]
    },
    {
      "cell_type": "markdown",
      "metadata": {
        "id": "oFsvQyaO_Te-"
      },
      "source": [
        "# Problem 6\n",
        "Kullanıcıdan isim, yaş ve eğitim bilgilerini isteyip ehliyet alabilme  durumunu kontrol ediniz. \n",
        "\n",
        "Ehliyet alma koşulu en az 18 yaşında ve eğitim durumu lise ya da üniversite olmalıdır. "
      ]
    },
    {
      "cell_type": "code",
      "execution_count": 4,
      "metadata": {
        "id": "Tu2mcgco_Te-"
      },
      "outputs": [
        {
          "name": "stdout",
          "output_type": "stream",
          "text": [
            "Yaşınız :  67\n",
            "Eğitim Durumunuz :  li̇se\n",
            "Ehliyet Alamazsınız.\n"
          ]
        }
      ],
      "source": [
        "isim = input(\"İsminizi Giriniz : \")\n",
        "yas = int(input(\"Yaşınızı Giriniz : \"))\n",
        "egitim = input(\"Eğitim Durumunuzu Giriniz : \").lower()\n",
        "\n",
        "print(\"Yaşınız : \",yas)\n",
        "print(\"Eğitim Durumunuz : \",egitim)\n",
        "\n",
        "if (yas >= 18) and ((egitim == \"lise\") or (egitim == \"üniversite\")) :\n",
        "    print(\"Ehliyet Alabilirsiniz.\")\n",
        "else:\n",
        "    print(\"Ehliyet Alamazsınız.\")    "
      ]
    },
    {
      "cell_type": "markdown",
      "metadata": {
        "id": "eUkxVSAE_Te_"
      },
      "source": [
        "# Problem 7\n",
        "Bir yılın artık yıl olup olmadığını kontrol etmek için bir program yazın. \n",
        "Artık yıl kuralı:\n",
        "\n",
        "a) Eğer yılın son iki basamağı (00) ile bitmiyor ve yalnızca 4'e tam bölünüyorsa artık yıldır. Ya da, \n",
        "\n",
        "b) Eğer yıl 400'e tam bölünüyorsa artık yıldır.\n",
        "\n",
        "**Örneğin**\n",
        "```\n",
        "2017 artık yıl değildir.\n",
        "1900 artık yıl değildir\n",
        "2012 artık yıldır.\n",
        "2000 artık yıldır.\n",
        "```"
      ]
    },
    {
      "cell_type": "code",
      "execution_count": 2,
      "metadata": {
        "id": "4uWh8qUL_Te_"
      },
      "outputs": [
        {
          "name": "stdout",
          "output_type": "stream",
          "text": [
            "1900 artık yıl değildir.\n"
          ]
        }
      ],
      "source": [
        "x = int(input(\"yıl : \"))\n",
        "\n",
        "if ((x % 100 != 0) and (x % 4 == 0)) or (x % 400 == 0):\n",
        "    print(f\"{x} artık yıldır.\")\n",
        "else:\n",
        "    print(f\"{x} artık yıl değildir.\")    "
      ]
    }
  ],
  "metadata": {
    "colab": {
      "provenance": []
    },
    "kernelspec": {
      "display_name": "Python 3.10.5 64-bit",
      "language": "python",
      "name": "python3"
    },
    "language_info": {
      "codemirror_mode": {
        "name": "ipython",
        "version": 3
      },
      "file_extension": ".py",
      "mimetype": "text/x-python",
      "name": "python",
      "nbconvert_exporter": "python",
      "pygments_lexer": "ipython3",
      "version": "3.11.1"
    },
    "orig_nbformat": 4,
    "vscode": {
      "interpreter": {
        "hash": "5026d2d6e7aaaaba093def813beadff083d8733e4a511af01735cbabd156995d"
      }
    }
  },
  "nbformat": 4,
  "nbformat_minor": 0
}
